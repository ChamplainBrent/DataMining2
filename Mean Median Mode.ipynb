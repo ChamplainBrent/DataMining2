{
  "nbformat": 4,
  "nbformat_minor": 0,
  "metadata": {
    "colab": {
      "name": "Pack.ipynb",
      "provenance": [],
      "authorship_tag": "ABX9TyNiPUV+XIrqbBn4oaaJQv0l",
      "include_colab_link": true
    },
    "kernelspec": {
      "name": "python3",
      "display_name": "Python 3"
    },
    "language_info": {
      "name": "python"
    }
  },
  "cells": [
    {
      "cell_type": "markdown",
      "metadata": {
        "id": "view-in-github",
        "colab_type": "text"
      },
      "source": [
        "<a href=\"https://colab.research.google.com/github/ChamplainBrent/DataMining2/blob/main/Mean%20Median%20Mode.ipynb\" target=\"_parent\"><img src=\"https://colab.research.google.com/assets/colab-badge.svg\" alt=\"Open In Colab\"/></a>"
      ]
    },
    {
      "cell_type": "code",
      "metadata": {
        "colab": {
          "base_uri": "https://localhost:8080/"
        },
        "id": "jzEGhk430x-3",
        "outputId": "885e2389-d59f-422b-d5f0-3c4aa4d5cf69"
      },
      "source": [
        "import numpy as np\n",
        "import pandas as pd\n",
        "!pip install -U scikit-learn\n",
        "!pip install psycopg2-binary\n",
        "import sqlalchemy as sqla\n",
        "from scipy import stats\n",
        "import matplotlib"
      ],
      "execution_count": null,
      "outputs": [
        {
          "output_type": "stream",
          "name": "stdout",
          "text": [
            "Requirement already satisfied: scikit-learn in /usr/local/lib/python3.7/dist-packages (0.24.2)\n",
            "Requirement already satisfied: joblib>=0.11 in /usr/local/lib/python3.7/dist-packages (from scikit-learn) (1.0.1)\n",
            "Requirement already satisfied: scipy>=0.19.1 in /usr/local/lib/python3.7/dist-packages (from scikit-learn) (1.4.1)\n",
            "Requirement already satisfied: numpy>=1.13.3 in /usr/local/lib/python3.7/dist-packages (from scikit-learn) (1.19.5)\n",
            "Requirement already satisfied: threadpoolctl>=2.0.0 in /usr/local/lib/python3.7/dist-packages (from scikit-learn) (2.2.0)\n",
            "Requirement already satisfied: psycopg2-binary in /usr/local/lib/python3.7/dist-packages (2.9.1)\n"
          ]
        }
      ]
    },
    {
      "cell_type": "code",
      "metadata": {
        "colab": {
          "base_uri": "https://localhost:8080/"
        },
        "id": "8uNR3UbY3riP",
        "outputId": "56428ccb-d6ba-4377-c930-86db12bd398a"
      },
      "source": [
        "x = np.random.rand(100)\n",
        "x."
      ],
      "execution_count": null,
      "outputs": [
        {
          "output_type": "execute_result",
          "data": {
            "text/plain": [
              "array([0.76433067, 0.48898002, 0.33093915, 0.98012393, 0.29185886,\n",
              "       0.87926411, 0.65049019, 0.50269852, 0.21350621, 0.81278889,\n",
              "       0.85140805, 0.8704602 , 0.30036568, 0.81669779, 0.37169988,\n",
              "       0.33619457, 0.80357268, 0.8900774 , 0.02432295, 0.79554794,\n",
              "       0.49838584, 0.2010729 , 0.02271738, 0.32319993, 0.83245317,\n",
              "       0.55182161, 0.75108857, 0.86429591, 0.76121905, 0.31392103,\n",
              "       0.49328056, 0.96632565, 0.23809406, 0.33532183, 0.81410905,\n",
              "       0.98404222, 0.50555286, 0.65273941, 0.44988386, 0.4567987 ,\n",
              "       0.05834284, 0.53025438, 0.58675731, 0.05544821, 0.94529177,\n",
              "       0.74861233, 0.68998182, 0.08926459, 0.03295646, 0.81884602,\n",
              "       0.95073853, 0.37446316, 0.21077909, 0.58741214, 0.7810362 ,\n",
              "       0.41682215, 0.51364643, 0.25885742, 0.8990517 , 0.07278419,\n",
              "       0.98721111, 0.35818172, 0.93973216, 0.86128678, 0.59127301,\n",
              "       0.47306772, 0.91850185, 0.39096801, 0.19075302, 0.15030973,\n",
              "       0.50945168, 0.84975238, 0.63376046, 0.74835232, 0.45473918,\n",
              "       0.6997487 , 0.43736126, 0.61158368, 0.95597217, 0.12881748,\n",
              "       0.34767598, 0.09519116, 0.11416415, 0.03402506, 0.79290141,\n",
              "       0.50249092, 0.4684944 , 0.82453348, 0.03764676, 0.0709429 ,\n",
              "       0.94186762, 0.85955895, 0.57187836, 0.99769283, 0.81206341,\n",
              "       0.06455172, 0.94367511, 0.07649729, 0.08619565, 0.80840202])"
            ]
          },
          "metadata": {},
          "execution_count": 9
        }
      ]
    },
    {
      "cell_type": "code",
      "metadata": {
        "colab": {
          "base_uri": "https://localhost:8080/"
        },
        "id": "Zei3FUqy443G",
        "outputId": "7491d51f-ec64-4e78-fb44-51197f6e183c"
      },
      "source": [
        "a = np.mean(x)\n",
        "a"
      ],
      "execution_count": null,
      "outputs": [
        {
          "output_type": "execute_result",
          "data": {
            "text/plain": [
              "0.5395427166824918"
            ]
          },
          "metadata": {},
          "execution_count": 16
        }
      ]
    },
    {
      "cell_type": "code",
      "metadata": {
        "colab": {
          "base_uri": "https://localhost:8080/"
        },
        "id": "Cjp4QmiH46tV",
        "outputId": "3377341a-e1a7-4f44-a0a6-4df5b0fe71d9"
      },
      "source": [
        "b = np.median(x)\n",
        "b"
      ],
      "execution_count": null,
      "outputs": [
        {
          "output_type": "execute_result",
          "data": {
            "text/plain": [
              "0.5219504075912054"
            ]
          },
          "metadata": {},
          "execution_count": 17
        }
      ]
    },
    {
      "cell_type": "code",
      "metadata": {
        "colab": {
          "base_uri": "https://localhost:8080/"
        },
        "id": "bBV2cofr5iOt",
        "outputId": "12150d7d-f1be-4d34-b489-6e62631877c0"
      },
      "source": [
        "c = stats.mode(x)\n",
        "c"
      ],
      "execution_count": null,
      "outputs": [
        {
          "output_type": "execute_result",
          "data": {
            "text/plain": [
              "ModeResult(mode=array([0.02271738]), count=array([1]))"
            ]
          },
          "metadata": {},
          "execution_count": 21
        }
      ]
    }
  ]
}